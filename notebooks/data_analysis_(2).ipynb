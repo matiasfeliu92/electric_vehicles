{
 "cells": [
  {
   "cell_type": "code",
   "execution_count": 1,
   "id": "3fa051d0",
   "metadata": {},
   "outputs": [],
   "source": [
    "import pandas as pd\n",
    "import matplotlib.pyplot as plt\n",
    "import seaborn as sns\n",
    "\n",
    "pd.set_option('display.max_columns', 500)"
   ]
  },
  {
   "cell_type": "code",
   "execution_count": 2,
   "id": "bf2902f8",
   "metadata": {},
   "outputs": [
    {
     "data": {
      "text/html": [
       "<div>\n",
       "<style scoped>\n",
       "    .dataframe tbody tr th:only-of-type {\n",
       "        vertical-align: middle;\n",
       "    }\n",
       "\n",
       "    .dataframe tbody tr th {\n",
       "        vertical-align: top;\n",
       "    }\n",
       "\n",
       "    .dataframe thead th {\n",
       "        text-align: right;\n",
       "    }\n",
       "</style>\n",
       "<table border=\"1\" class=\"dataframe\">\n",
       "  <thead>\n",
       "    <tr style=\"text-align: right;\">\n",
       "      <th></th>\n",
       "      <th>Battery</th>\n",
       "      <th>Car_name</th>\n",
       "      <th>Car_name_link</th>\n",
       "      <th>Efficiency</th>\n",
       "      <th>Fast_charge</th>\n",
       "      <th>Price.DE.</th>\n",
       "      <th>Range</th>\n",
       "      <th>Top_speed</th>\n",
       "      <th>acceleration..0.100.</th>\n",
       "    </tr>\n",
       "  </thead>\n",
       "  <tbody>\n",
       "    <tr>\n",
       "      <th>0</th>\n",
       "      <td>75.0</td>\n",
       "      <td>Tesla Model Y Long Range Dual Motor</td>\n",
       "      <td>https://ev-database.org/car/1619/Tesla-Model-Y...</td>\n",
       "      <td>172</td>\n",
       "      <td>670.0</td>\n",
       "      <td>59017.0</td>\n",
       "      <td>435</td>\n",
       "      <td>217</td>\n",
       "      <td>5.0</td>\n",
       "    </tr>\n",
       "    <tr>\n",
       "      <th>1</th>\n",
       "      <td>57.5</td>\n",
       "      <td>Tesla Model 3</td>\n",
       "      <td>https://ev-database.org/car/1991/Tesla-Model-3</td>\n",
       "      <td>137</td>\n",
       "      <td>700.0</td>\n",
       "      <td>46220.0</td>\n",
       "      <td>420</td>\n",
       "      <td>201</td>\n",
       "      <td>6.1</td>\n",
       "    </tr>\n",
       "    <tr>\n",
       "      <th>2</th>\n",
       "      <td>60.5</td>\n",
       "      <td>BYD ATTO 3</td>\n",
       "      <td>https://ev-database.org/car/1782/BYD-ATTO-3</td>\n",
       "      <td>183</td>\n",
       "      <td>370.0</td>\n",
       "      <td>44625.0</td>\n",
       "      <td>330</td>\n",
       "      <td>160</td>\n",
       "      <td>7.3</td>\n",
       "    </tr>\n",
       "  </tbody>\n",
       "</table>\n",
       "</div>"
      ],
      "text/plain": [
       "   Battery                             Car_name  \\\n",
       "0     75.0  Tesla Model Y Long Range Dual Motor   \n",
       "1     57.5                        Tesla Model 3   \n",
       "2     60.5                           BYD ATTO 3   \n",
       "\n",
       "                                       Car_name_link  Efficiency  Fast_charge  \\\n",
       "0  https://ev-database.org/car/1619/Tesla-Model-Y...         172        670.0   \n",
       "1     https://ev-database.org/car/1991/Tesla-Model-3         137        700.0   \n",
       "2        https://ev-database.org/car/1782/BYD-ATTO-3         183        370.0   \n",
       "\n",
       "   Price.DE.  Range  Top_speed  acceleration..0.100.  \n",
       "0    59017.0    435        217                   5.0  \n",
       "1    46220.0    420        201                   6.1  \n",
       "2    44625.0    330        160                   7.3  "
      ]
     },
     "execution_count": 2,
     "metadata": {},
     "output_type": "execute_result"
    }
   ],
   "source": [
    "electric_vehicles = pd.read_csv('../data/EV_cars.csv')\n",
    "electric_vehicles.head(3)"
   ]
  },
  {
   "cell_type": "code",
   "execution_count": 3,
   "id": "d9b949fc",
   "metadata": {},
   "outputs": [
    {
     "name": "stdout",
     "output_type": "stream",
     "text": [
      "<class 'pandas.core.frame.DataFrame'>\n",
      "RangeIndex: 360 entries, 0 to 359\n",
      "Data columns (total 9 columns):\n",
      " #   Column                Non-Null Count  Dtype  \n",
      "---  ------                --------------  -----  \n",
      " 0   Battery               360 non-null    float64\n",
      " 1   Car_name              360 non-null    object \n",
      " 2   Car_name_link         360 non-null    object \n",
      " 3   Efficiency            360 non-null    int64  \n",
      " 4   Fast_charge           358 non-null    float64\n",
      " 5   Price.DE.             309 non-null    float64\n",
      " 6   Range                 360 non-null    int64  \n",
      " 7   Top_speed             360 non-null    int64  \n",
      " 8   acceleration..0.100.  360 non-null    float64\n",
      "dtypes: float64(4), int64(3), object(2)\n",
      "memory usage: 25.4+ KB\n"
     ]
    }
   ],
   "source": [
    "electric_vehicles.info()"
   ]
  }
 ],
 "metadata": {
  "kernelspec": {
   "display_name": "Python 3 (ipykernel)",
   "language": "python",
   "name": "python3"
  },
  "language_info": {
   "codemirror_mode": {
    "name": "ipython",
    "version": 3
   },
   "file_extension": ".py",
   "mimetype": "text/x-python",
   "name": "python",
   "nbconvert_exporter": "python",
   "pygments_lexer": "ipython3",
   "version": "3.8.18"
  }
 },
 "nbformat": 4,
 "nbformat_minor": 5
}
